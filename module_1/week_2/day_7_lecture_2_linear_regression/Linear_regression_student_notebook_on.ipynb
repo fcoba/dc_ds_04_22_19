{
 "cells": [
  {
   "cell_type": "markdown",
   "metadata": {},
   "source": [
    "<h1 style=\"color:brown;\">  Welcome to Modeling</h1> "
   ]
  },
  {
   "cell_type": "markdown",
   "metadata": {},
   "source": [
    "### Import packages"
   ]
  },
  {
   "cell_type": "code",
   "execution_count": 6,
   "metadata": {},
   "outputs": [],
   "source": [
    "import pandas as pd\n",
    "import matplotlib.pyplot as plt\n",
    "import statsmodels.api as sm\n",
    "import statsmodels.stats.api as sms\n",
    "import statsmodels.formula.api as smf\n",
    "import scipy.stats as stats\n",
    "import seaborn as sns\n",
    "import numpy as np\n",
    "import warnings\n",
    "warnings.filterwarnings('ignore')"
   ]
  },
  {
   "cell_type": "markdown",
   "metadata": {},
   "source": [
    "### Lesson plan - linear regression & general approach to modelling\n",
    "1. The story/ question \n",
    "2. The aim\n",
    "3. Assumptions and constraints\n",
    "4. Optimization\n",
    "5. Metric\n",
    "6. Interpretation - if time permits\n"
   ]
  },
  {
   "cell_type": "markdown",
   "metadata": {},
   "source": [
    "What a model is ?\n",
    "\n",
    "A mathematical formulation by which we want to take data and create a function which can generalize on any data to predict. "
   ]
  },
  {
   "cell_type": "markdown",
   "metadata": {},
   "source": [
    "### How are the following factors related ?  "
   ]
  },
  {
   "cell_type": "markdown",
   "metadata": {},
   "source": [
    "##### Example I : \n",
    "Dan went out with friends, drank, drove his car and crashed - he's ok \n",
    "Joe went out with friends, didn't drink, also drove his car and crashed as well "
   ]
  },
  {
   "cell_type": "markdown",
   "metadata": {},
   "source": [
    "![ChessUrl](https://media.giphy.com/media/hDJo64zI3T6da/giphy.gif \"chess\")"
   ]
  },
  {
   "cell_type": "code",
   "execution_count": 1,
   "metadata": {},
   "outputs": [],
   "source": [
    "# What causes car crashes? \n",
    "\n",
    "# -having friends in car \n",
    "# -speed of car\n",
    "# -people who drink have more severe crashes\n",
    "# -link between alcohol consumption and severity of crash\n"
   ]
  },
  {
   "cell_type": "markdown",
   "metadata": {},
   "source": [
    "##### Example II: \n",
    "With every passing year, CO2 levels increase "
   ]
  },
  {
   "cell_type": "markdown",
   "metadata": {},
   "source": [
    "![Co2](https://media.giphy.com/media/VTQGgVfLeTL32/giphy.gif)"
   ]
  },
  {
   "cell_type": "code",
   "execution_count": null,
   "metadata": {},
   "outputs": [],
   "source": [
    "#time and CO2 levels "
   ]
  },
  {
   "cell_type": "markdown",
   "metadata": {},
   "source": [
    "##### Example III: \n",
    "The more ice cream people eat, the more drownings we have."
   ]
  },
  {
   "cell_type": "markdown",
   "metadata": {},
   "source": [
    "![Ice-cream](https://media.giphy.com/media/3o6gDREoETcSrm9Wog/giphy.gif)"
   ]
  },
  {
   "cell_type": "code",
   "execution_count": null,
   "metadata": {},
   "outputs": [],
   "source": [
    "# it's summer, people go in pools."
   ]
  },
  {
   "cell_type": "markdown",
   "metadata": {},
   "source": [
    "##### Question : is cutting trees bad for the enviornment ? are you using kindle from an enviornmental stance ? \n",
    "##### Example IV: \n",
    "I'm the owner of a paper factory. I want to know the volume of trees from their diameter."
   ]
  },
  {
   "cell_type": "markdown",
   "metadata": {},
   "source": [
    "![Lumber](https://media.giphy.com/media/UxTZDNv0Zej4s/giphy.gif)"
   ]
  },
  {
   "cell_type": "code",
   "execution_count": 2,
   "metadata": {},
   "outputs": [],
   "source": [
    "#predictive "
   ]
  },
  {
   "cell_type": "markdown",
   "metadata": {},
   "source": [
    "##### Example V: \n",
    "An experiment was done with different concentrations of toxic substance to quantify effect on tumor incidence"
   ]
  },
  {
   "cell_type": "markdown",
   "metadata": {},
   "source": [
    "![tumor](https://media.giphy.com/media/3o85xHEY82v0ZEpAwo/giphy.gif)"
   ]
  },
  {
   "cell_type": "markdown",
   "metadata": {},
   "source": [
    "### 2. What is the aim of each example ?  take 5 minutes to tag each example !"
   ]
  },
  {
   "cell_type": "markdown",
   "metadata": {},
   "source": [
    "##### Why are Causal statements tricky ? "
   ]
  },
  {
   "cell_type": "code",
   "execution_count": 3,
   "metadata": {},
   "outputs": [],
   "source": [
    "# retailer who finds out the bigger the strore the bigger the sales. "
   ]
  },
  {
   "cell_type": "markdown",
   "metadata": {},
   "source": [
    "### 3. Why do we even need a model to find patterns in the data ? "
   ]
  },
  {
   "cell_type": "markdown",
   "metadata": {},
   "source": [
    "![biased tall](https://media.giphy.com/media/l0MYrguDYf6uvscak/giphy.gif)"
   ]
  },
  {
   "cell_type": "code",
   "execution_count": 65,
   "metadata": {},
   "outputs": [],
   "source": [
    "#####We are dealing with samples. \n"
   ]
  },
  {
   "cell_type": "markdown",
   "metadata": {},
   "source": [
    "<h2 style=\"color:purple;\"> Assumption I: linear relation between X & Y </h2>"
   ]
  },
  {
   "cell_type": "markdown",
   "metadata": {},
   "source": [
    "##### We are going to concentrate on drunken Dan for our hands on example"
   ]
  },
  {
   "cell_type": "markdown",
   "metadata": {},
   "source": [
    "##### Load the data"
   ]
  },
  {
   "cell_type": "code",
   "execution_count": 7,
   "metadata": {},
   "outputs": [
    {
     "data": {
      "text/plain": [
       "['anscombe',\n",
       " 'attention',\n",
       " 'brain_networks',\n",
       " 'car_crashes',\n",
       " 'diamonds',\n",
       " 'dots',\n",
       " 'exercise',\n",
       " 'flights',\n",
       " 'fmri',\n",
       " 'gammas',\n",
       " 'iris',\n",
       " 'mpg',\n",
       " 'planets',\n",
       " 'tips',\n",
       " 'titanic']"
      ]
     },
     "execution_count": 7,
     "metadata": {},
     "output_type": "execute_result"
    }
   ],
   "source": [
    "## The possible seaborn datasets\n",
    "sns.get_dataset_names()"
   ]
  },
  {
   "cell_type": "code",
   "execution_count": 8,
   "metadata": {},
   "outputs": [],
   "source": [
    "## Load the car crashes dataset\n",
    "car_crashes_df = sns.load_dataset('car_crashes')"
   ]
  },
  {
   "cell_type": "code",
   "execution_count": 9,
   "metadata": {},
   "outputs": [
    {
     "data": {
      "text/html": [
       "<div>\n",
       "<style scoped>\n",
       "    .dataframe tbody tr th:only-of-type {\n",
       "        vertical-align: middle;\n",
       "    }\n",
       "\n",
       "    .dataframe tbody tr th {\n",
       "        vertical-align: top;\n",
       "    }\n",
       "\n",
       "    .dataframe thead th {\n",
       "        text-align: right;\n",
       "    }\n",
       "</style>\n",
       "<table border=\"1\" class=\"dataframe\">\n",
       "  <thead>\n",
       "    <tr style=\"text-align: right;\">\n",
       "      <th></th>\n",
       "      <th>total</th>\n",
       "      <th>speeding</th>\n",
       "      <th>alcohol</th>\n",
       "      <th>not_distracted</th>\n",
       "      <th>no_previous</th>\n",
       "      <th>ins_premium</th>\n",
       "      <th>ins_losses</th>\n",
       "      <th>abbrev</th>\n",
       "    </tr>\n",
       "  </thead>\n",
       "  <tbody>\n",
       "    <tr>\n",
       "      <th>0</th>\n",
       "      <td>18.8</td>\n",
       "      <td>7.332</td>\n",
       "      <td>5.640</td>\n",
       "      <td>18.048</td>\n",
       "      <td>15.040</td>\n",
       "      <td>784.55</td>\n",
       "      <td>145.08</td>\n",
       "      <td>AL</td>\n",
       "    </tr>\n",
       "    <tr>\n",
       "      <th>1</th>\n",
       "      <td>18.1</td>\n",
       "      <td>7.421</td>\n",
       "      <td>4.525</td>\n",
       "      <td>16.290</td>\n",
       "      <td>17.014</td>\n",
       "      <td>1053.48</td>\n",
       "      <td>133.93</td>\n",
       "      <td>AK</td>\n",
       "    </tr>\n",
       "    <tr>\n",
       "      <th>2</th>\n",
       "      <td>18.6</td>\n",
       "      <td>6.510</td>\n",
       "      <td>5.208</td>\n",
       "      <td>15.624</td>\n",
       "      <td>17.856</td>\n",
       "      <td>899.47</td>\n",
       "      <td>110.35</td>\n",
       "      <td>AZ</td>\n",
       "    </tr>\n",
       "    <tr>\n",
       "      <th>3</th>\n",
       "      <td>22.4</td>\n",
       "      <td>4.032</td>\n",
       "      <td>5.824</td>\n",
       "      <td>21.056</td>\n",
       "      <td>21.280</td>\n",
       "      <td>827.34</td>\n",
       "      <td>142.39</td>\n",
       "      <td>AR</td>\n",
       "    </tr>\n",
       "    <tr>\n",
       "      <th>4</th>\n",
       "      <td>12.0</td>\n",
       "      <td>4.200</td>\n",
       "      <td>3.360</td>\n",
       "      <td>10.920</td>\n",
       "      <td>10.680</td>\n",
       "      <td>878.41</td>\n",
       "      <td>165.63</td>\n",
       "      <td>CA</td>\n",
       "    </tr>\n",
       "  </tbody>\n",
       "</table>\n",
       "</div>"
      ],
      "text/plain": [
       "   total  speeding  alcohol  not_distracted  no_previous  ins_premium  \\\n",
       "0   18.8     7.332    5.640          18.048       15.040       784.55   \n",
       "1   18.1     7.421    4.525          16.290       17.014      1053.48   \n",
       "2   18.6     6.510    5.208          15.624       17.856       899.47   \n",
       "3   22.4     4.032    5.824          21.056       21.280       827.34   \n",
       "4   12.0     4.200    3.360          10.920       10.680       878.41   \n",
       "\n",
       "   ins_losses abbrev  \n",
       "0      145.08     AL  \n",
       "1      133.93     AK  \n",
       "2      110.35     AZ  \n",
       "3      142.39     AR  \n",
       "4      165.63     CA  "
      ]
     },
     "execution_count": 9,
     "metadata": {},
     "output_type": "execute_result"
    }
   ],
   "source": [
    "car_crashes_df.head()"
   ]
  },
  {
   "cell_type": "markdown",
   "metadata": {},
   "source": [
    "### a. What are possible simple linear regression models one might want to run here ?  "
   ]
  },
  {
   "cell_type": "code",
   "execution_count": 68,
   "metadata": {},
   "outputs": [],
   "source": [
    "### \n"
   ]
  },
  {
   "cell_type": "code",
   "execution_count": 14,
   "metadata": {},
   "outputs": [],
   "source": [
    "### Choose specifically columns of total and alcohol  - give this df a different name than the original\n",
    "alcohol_df = car_crashes_df.loc[:, ['total','alcohol']]"
   ]
  },
  {
   "cell_type": "code",
   "execution_count": null,
   "metadata": {},
   "outputs": [],
   "source": []
  },
  {
   "cell_type": "markdown",
   "metadata": {},
   "source": [
    "### b. Can you think of two quick statistical ways to check the intuition that alcohol and car crashing index are linearly associated ?"
   ]
  },
  {
   "cell_type": "code",
   "execution_count": 15,
   "metadata": {},
   "outputs": [
    {
     "data": {
      "text/plain": [
       "<matplotlib.collections.PathCollection at 0x1c16136080>"
      ]
     },
     "execution_count": 15,
     "metadata": {},
     "output_type": "execute_result"
    },
    {
     "data": {
      "image/png": "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\n",
      "text/plain": [
       "<Figure size 432x288 with 1 Axes>"
      ]
     },
     "metadata": {
      "needs_background": "light"
     },
     "output_type": "display_data"
    }
   ],
   "source": [
    "# scatter plot\n",
    "plt.scatter(alcohol_df['alcohol'], alcohol_df['total'])\n"
   ]
  },
  {
   "cell_type": "markdown",
   "metadata": {},
   "source": [
    "Hint: $\\frac{cov(x, y)}{\\sqrt{var(X)var(Y)}}$"
   ]
  },
  {
   "cell_type": "code",
   "execution_count": 17,
   "metadata": {},
   "outputs": [
    {
     "data": {
      "text/plain": [
       "0.8526132163334912"
      ]
     },
     "execution_count": 17,
     "metadata": {},
     "output_type": "execute_result"
    }
   ],
   "source": [
    "stats.pearsonr(alcohol_df['alcohol'], alcohol_df['total'])[0]"
   ]
  },
  {
   "cell_type": "code",
   "execution_count": null,
   "metadata": {},
   "outputs": [],
   "source": [
    "# difference of x from it's mean and y from it's mean "
   ]
  },
  {
   "cell_type": "markdown",
   "metadata": {},
   "source": [
    "### c.  let's calculate the correlation of alcohol and total crash index ? "
   ]
  },
  {
   "cell_type": "code",
   "execution_count": 24,
   "metadata": {
    "scrolled": true
   },
   "outputs": [
    {
     "data": {
      "text/plain": [
       "(0.8526132163334912, 2.0355934480666697e-15)"
      ]
     },
     "execution_count": 24,
     "metadata": {},
     "output_type": "execute_result"
    }
   ],
   "source": [
    "### Calculate the correlation coef with stats model\n",
    "stats.pearsonr(alcohol_df['alcohol'], alcohol_df['total'])[0]"
   ]
  },
  {
   "cell_type": "code",
   "execution_count": 3,
   "metadata": {},
   "outputs": [],
   "source": [
    "### Calculate the correlation coef with numpy - pay attention that sample variance is different from population variance !\n",
    " "
   ]
  },
  {
   "cell_type": "markdown",
   "metadata": {},
   "source": [
    "##### Sample variance is biased \n",
    "- https://en.wikipedia.org/wiki/Bessel%27s_correction#Proof_of_correctness_-_Alternate_3\n",
    "- much more rigorous math (proof) : https://mycourses.aalto.fi/pluginfile.php/364838/mod_resource/content/1/Proof%20that%20Sample%20Variance%20is%20Unbiased.pdf "
   ]
  },
  {
   "cell_type": "markdown",
   "metadata": {},
   "source": [
    "### d. Calculate both the covariance and correlation of the pairs: \n",
    " - alcohol and not_distracted\n",
    " - alcohol and no_previous"
   ]
  },
  {
   "cell_type": "code",
   "execution_count": 25,
   "metadata": {},
   "outputs": [
    {
     "data": {
      "text/plain": [
       "array([[ 2.98990061,  5.71349134],\n",
       "       [ 5.71349134, 20.33087435]])"
      ]
     },
     "execution_count": 25,
     "metadata": {},
     "output_type": "execute_result"
    }
   ],
   "source": [
    "## get covariance matrix (variance on the diagonal and covariance otherwise)\n",
    "np.cov(car_crashes_df['alcohol'], car_crashes_df['not_distracted'])\n"
   ]
  },
  {
   "cell_type": "code",
   "execution_count": 26,
   "metadata": {},
   "outputs": [
    {
     "data": {
      "text/plain": [
       "array([[ 2.98990061,  5.10041559],\n",
       "       [ 5.10041559, 14.17275451]])"
      ]
     },
     "execution_count": 26,
     "metadata": {},
     "output_type": "execute_result"
    }
   ],
   "source": [
    "## get only the value of the covariance between alcohol and no_previous\n",
    "np.cov(car_crashes_df['alcohol'], car_crashes_df['no_previous'])"
   ]
  },
  {
   "cell_type": "code",
   "execution_count": 27,
   "metadata": {},
   "outputs": [
    {
     "data": {
      "text/plain": [
       "(0.7835199456551566, 1.070086030113589e-11)"
      ]
     },
     "execution_count": 27,
     "metadata": {},
     "output_type": "execute_result"
    }
   ],
   "source": [
    "## now let's get the coeficient of determination of both pairs\n",
    "stats.pearsonr(car_crashes_df['alcohol'], car_crashes_df['no_previous'])"
   ]
  },
  {
   "cell_type": "code",
   "execution_count": 29,
   "metadata": {},
   "outputs": [],
   "source": [
    "# dispersian from the mean squared and averaged = variance\n",
    "# how they move together - covariance "
   ]
  },
  {
   "cell_type": "markdown",
   "metadata": {},
   "source": [
    "##### Do you understand the results ? \n",
    "covariance results can be misleading since they take into account measurements in different units\n",
    "and thus are hard to compare (think of cm versus meters - i'm used to this metrics at least :))"
   ]
  },
  {
   "cell_type": "markdown",
   "metadata": {},
   "source": [
    "### If you were to choose only one number (constant) for the model what would it be ? \n",
    "### Talk with a peer and calculate this number from the data set."
   ]
  },
  {
   "cell_type": "code",
   "execution_count": 104,
   "metadata": {},
   "outputs": [
    {
     "data": {
      "image/png": "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\n",
      "text/plain": [
       "<Figure size 720x720 with 1 Axes>"
      ]
     },
     "metadata": {
      "needs_background": "light"
     },
     "output_type": "display_data"
    }
   ],
   "source": [
    "plt.figure(figsize=(10, 10))\n",
    "plt.scatter(car_crashes_df['alcohol'], car_crashes_df['total'])\n",
    "plt.axhline(y=20, color = 'green', label = 'h2')\n",
    "plt.axhline(y=12, color = 'red', label = 'h1')\n",
    "plt.axhline(y=15, color = 'brown', label = 'h3')\n",
    "plt.legend()\n",
    "plt.xlabel('Alcohool consumption')\n",
    "plt.ylabel('Crash severity index')\n",
    "plt.title('Which line is the optimal constant line ? ')\n",
    "plt.show()"
   ]
  },
  {
   "cell_type": "markdown",
   "metadata": {},
   "source": [
    "![confused](https://media.giphy.com/media/3o7btPCcdNniyf0ArS/giphy.gif)"
   ]
  },
  {
   "cell_type": "markdown",
   "metadata": {},
   "source": [
    "### Can we tilt the line to get a better fit ? "
   ]
  },
  {
   "cell_type": "markdown",
   "metadata": {},
   "source": [
    "### 4. Optimal"
   ]
  },
  {
   "cell_type": "markdown",
   "metadata": {},
   "source": [
    "##### Deciding on the optimal line requires us to define what is optimal - this is similar to all learning algorithms "
   ]
  },
  {
   "cell_type": "markdown",
   "metadata": {},
   "source": [
    "Our goal is to minimise the loss function (mean squared error)\n",
    "$MSE = \\frac{1}{n} \\sum (actual - predicted)^2$"
   ]
  },
  {
   "cell_type": "markdown",
   "metadata": {},
   "source": [
    "##### a. Calculate the sum of errors from your model ? Do you understand why you got this result ? \n",
    "##### Will it be the same for non constant number ? https://autarkaw.org/2017/07/06/sum-of-the-residuals-for-the-linear-regression-model-is-zero/"
   ]
  },
  {
   "cell_type": "code",
   "execution_count": 39,
   "metadata": {},
   "outputs": [
    {
     "data": {
      "text/plain": [
       "1.3677947663381929e-13"
      ]
     },
     "execution_count": 39,
     "metadata": {},
     "output_type": "execute_result"
    }
   ],
   "source": [
    "sum(car_crashes_df['total']- np.mean(car_crashes_df['total']))\n",
    "# sum(car_crashes_df['total']- (car_crashes_df['total']).mean())"
   ]
  },
  {
   "cell_type": "code",
   "execution_count": 42,
   "metadata": {},
   "outputs": [],
   "source": [
    "##### Please take 3 min to explore the ols method of smf package\n",
    "?smf.ols"
   ]
  },
  {
   "cell_type": "code",
   "execution_count": 43,
   "metadata": {},
   "outputs": [],
   "source": [
    "formula = 'total~alcohol'"
   ]
  },
  {
   "cell_type": "markdown",
   "metadata": {},
   "source": [
    "<h2 style=\"color:purple;\">  We can tilt it! now our goal is to find a line such that </h2>\n"
   ]
  },
  {
   "cell_type": "markdown",
   "metadata": {},
   "source": [
    "$\\hat y_i  = ax_i + b$ "
   ]
  },
  {
   "cell_type": "code",
   "execution_count": 40,
   "metadata": {},
   "outputs": [],
   "source": [
    "# some smart person tiled the line.....linear regression was born"
   ]
  },
  {
   "cell_type": "markdown",
   "metadata": {},
   "source": [
    "### 5. Metrics"
   ]
  },
  {
   "cell_type": "markdown",
   "metadata": {},
   "source": [
    "#### how do I know if it is really a good model ? "
   ]
  },
  {
   "cell_type": "markdown",
   "metadata": {},
   "source": [
    "![e-commerce](https://media.giphy.com/media/3o6ZsYYi4MmCcr9KN2/giphy.gif)"
   ]
  },
  {
   "cell_type": "code",
   "execution_count": null,
   "metadata": {},
   "outputs": [],
   "source": [
    "### Take 2 minutes to plot (lmplot) with seaborn 'alcohol' as your explanatory variable and 'ins_premium' as your target"
   ]
  },
  {
   "cell_type": "code",
   "execution_count": 45,
   "metadata": {},
   "outputs": [
    {
     "data": {
      "text/plain": [
       "<seaborn.axisgrid.FacetGrid at 0x1c164577b8>"
      ]
     },
     "execution_count": 45,
     "metadata": {},
     "output_type": "execute_result"
    },
    {
     "data": {
      "image/png": "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\n",
      "text/plain": [
       "<Figure size 360x360 with 1 Axes>"
      ]
     },
     "metadata": {
      "needs_background": "light"
     },
     "output_type": "display_data"
    }
   ],
   "source": [
    "sns.lmplot('alcohol', 'ins_premium', data=car_crashes_df)"
   ]
  },
  {
   "cell_type": "code",
   "execution_count": null,
   "metadata": {},
   "outputs": [],
   "source": [
    "# |(actual-predict)/actual|"
   ]
  },
  {
   "cell_type": "markdown",
   "metadata": {},
   "source": [
    "### For linear regression specifically we can talk about R^2"
   ]
  },
  {
   "cell_type": "markdown",
   "metadata": {},
   "source": [
    "$ R^2 = 1 - \\frac {\\sum (y_i - \\hat y)^2} {\\sum (y_i - y_{mean})^2}$"
   ]
  },
  {
   "cell_type": "code",
   "execution_count": null,
   "metadata": {},
   "outputs": [],
   "source": [
    "### Take 3 min to calculate the R^2 using stats.linregress"
   ]
  },
  {
   "cell_type": "code",
   "execution_count": 46,
   "metadata": {},
   "outputs": [],
   "source": [
    "r_squared = stats.linregress(alcohol_df['alcohol'], alcohol_df['total']).rvalue **2"
   ]
  },
  {
   "cell_type": "code",
   "execution_count": 47,
   "metadata": {},
   "outputs": [
    {
     "data": {
      "text/plain": [
       "0.7269492966665404"
      ]
     },
     "execution_count": 47,
     "metadata": {},
     "output_type": "execute_result"
    }
   ],
   "source": [
    "r_squared"
   ]
  },
  {
   "cell_type": "markdown",
   "metadata": {},
   "source": [
    "##### Should we always count on R^2 ? "
   ]
  },
  {
   "cell_type": "markdown",
   "metadata": {},
   "source": [
    "### Are we done ? "
   ]
  },
  {
   "cell_type": "markdown",
   "metadata": {},
   "source": [
    "![](https://media.giphy.com/media/5bofVYmYAEDVCYERcf/giphy.gif)"
   ]
  },
  {
   "cell_type": "markdown",
   "metadata": {},
   "source": [
    "### We need more assumptions..  "
   ]
  },
  {
   "cell_type": "markdown",
   "metadata": {},
   "source": [
    "<h2 style=\"color:purple;\"> Assumption II: errors are independent </h2>"
   ]
  },
  {
   "cell_type": "markdown",
   "metadata": {},
   "source": [
    "<h2 style=\"color:purple;\"> Assumption III: errors are normally distributed </h2>"
   ]
  },
  {
   "cell_type": "markdown",
   "metadata": {},
   "source": [
    "<h2 style=\"color:purple;\"> Assumption IV: errors have mean 0 and std sigma (homoscedastic)</h2>"
   ]
  },
  {
   "cell_type": "markdown",
   "metadata": {},
   "source": [
    "![](https://i.stack.imgur.com/yEqcg.png)"
   ]
  },
  {
   "cell_type": "markdown",
   "metadata": {},
   "source": [
    "### How can we check model assumptions ? (these are only few suggestions)"
   ]
  },
  {
   "cell_type": "markdown",
   "metadata": {},
   "source": [
    "1. scatter plot  - check linearity, constant variance and outliers "
   ]
  },
  {
   "cell_type": "markdown",
   "metadata": {},
   "source": [
    "2. standardized residuals vs. explanatory variable - should look like a cloud because of independence assumption"
   ]
  },
  {
   "cell_type": "markdown",
   "metadata": {},
   "source": [
    "3. predicted values vs. standardized residuals - should look like a cloud (comes out from the math)"
   ]
  },
  {
   "cell_type": "markdown",
   "metadata": {},
   "source": [
    "4. Histograms for standardized residuals"
   ]
  },
  {
   "cell_type": "markdown",
   "metadata": {},
   "source": [
    "5. Q-Q plots"
   ]
  },
  {
   "cell_type": "markdown",
   "metadata": {},
   "source": [
    "What are standardized residuals [by Dr Giampiero Marra] : \n",
    "    Residuals and standardized residuals. The residuals are the deviations of the observations of their “ideal” value according to the model.\n",
    "    They can be interpreted as estimators of the errors ei (and are therefore denoted by eˆi). This suggests that the residuals can be used to assess the model assumptions about the errors. The standard- ised residuals are residuals divided by their estimated standard deviations, so that the standardized residuals should have a standard deviation of 1, which helps assessing their size. Too many standardised residuals with magnitude greater than 2 suggests that the error distribution has heavier tails than a normal distribution, but note that about 5% of standardised residuals are expected to be larger than 2 in magnitude even if the errors are normally distributed (remember that 2 ≈ 1.96 = 97.5% quantile of the standard normal distribution)."
   ]
  },
  {
   "cell_type": "code",
   "execution_count": null,
   "metadata": {},
   "outputs": [],
   "source": []
  },
  {
   "cell_type": "markdown",
   "metadata": {},
   "source": [
    "### Let's take a go and try to check the assumptions of linear regression\n",
    "### and then run a model"
   ]
  },
  {
   "cell_type": "markdown",
   "metadata": {},
   "source": [
    "##### 1. Check the linear regression assumptions (use histograms, Q-Q plots, scatter plots, residual plots)\n",
    "##### 2. Write down the equation you got. How do you interpret it ? \n",
    "##### 3. Write down the confidence intervals for the intercept and slope\n",
    "##### 4. Are any of the parameters insignificant ? \n",
    "##### 5. Add a column to data frame with the prediction (according to the equation you got)"
   ]
  },
  {
   "cell_type": "markdown",
   "metadata": {},
   "source": [
    "### Check model assumptions "
   ]
  },
  {
   "cell_type": "code",
   "execution_count": null,
   "metadata": {},
   "outputs": [],
   "source": []
  },
  {
   "cell_type": "code",
   "execution_count": null,
   "metadata": {},
   "outputs": [],
   "source": []
  },
  {
   "cell_type": "markdown",
   "metadata": {},
   "source": [
    "### Construct the model"
   ]
  },
  {
   "cell_type": "code",
   "execution_count": null,
   "metadata": {},
   "outputs": [],
   "source": []
  },
  {
   "cell_type": "code",
   "execution_count": null,
   "metadata": {},
   "outputs": [],
   "source": []
  },
  {
   "cell_type": "code",
   "execution_count": null,
   "metadata": {},
   "outputs": [],
   "source": []
  },
  {
   "cell_type": "code",
   "execution_count": 9,
   "metadata": {},
   "outputs": [],
   "source": [
    "## Plot linear regression line with confidence band\n"
   ]
  },
  {
   "cell_type": "code",
   "execution_count": null,
   "metadata": {},
   "outputs": [],
   "source": []
  }
 ],
 "metadata": {
  "kernelspec": {
   "display_name": "Python 3",
   "language": "python",
   "name": "python3"
  },
  "language_info": {
   "codemirror_mode": {
    "name": "ipython",
    "version": 3
   },
   "file_extension": ".py",
   "mimetype": "text/x-python",
   "name": "python",
   "nbconvert_exporter": "python",
   "pygments_lexer": "ipython3",
<<<<<<< HEAD
   "version": "3.6.6"
=======
   "version": "3.7.0"
>>>>>>> ed67d1adbb25780a2eaa9138351acf1ad6236a95
  }
 },
 "nbformat": 4,
 "nbformat_minor": 2
}
