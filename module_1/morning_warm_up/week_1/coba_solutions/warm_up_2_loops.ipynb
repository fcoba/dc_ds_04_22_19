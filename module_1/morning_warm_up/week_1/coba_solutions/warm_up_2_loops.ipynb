{
 "cells": [
  {
   "cell_type": "markdown",
   "metadata": {},
   "source": [
    "#  For loops and alternatives\n",
    "\n",
    "Given an array of integers, return the index of of the target number - try doing it with a for loop. Notice that the target number can repeat several times."
   ]
  },
  {
   "cell_type": "markdown",
   "metadata": {},
   "source": [
    "### Example:\n",
    "\n",
    "Given `nums = [2, 9, 11, 15]`, target = 9,\n",
    "\n",
    "Because nums[1] = 9\n",
    "\n",
    "```python\n",
    "return 1\n",
    "``` "
   ]
  },
  {
   "cell_type": "code",
   "execution_count": 38,
   "metadata": {},
   "outputs": [
    {
     "name": "stdout",
     "output_type": "stream",
     "text": [
      "I NOWANU BE A CHICKEN I NOWANU BE A DUCK\n",
      "I NOWANU BE A CHICKEN I NOWANU BE A DUCK\n",
      "I NOWANU BE A CHICKEN I NOWANU BE A DUCK\n",
      "1, 4\n"
     ]
    }
   ],
   "source": [
    "nums = [2, 9, 11, 15, 9]\n",
    "target = 9\n",
    "index = list(range(len(nums))) # [0, 1, 2, 3]\n",
    "\n",
    "index_target = []\n",
    "for i in index:\n",
    "    if nums[i]==target:\n",
    "        index_target.append(i)\n",
    "    else:\n",
    "        print('I NOWANU BE A CHICKEN I NOWANU BE A DUCK')\n",
    "print(', '.join(map(str,index_target)))"
   ]
  },
  {
   "cell_type": "markdown",
   "metadata": {},
   "source": [
    " # [optional I] - solve with for loops\n",
    " You have an array of integers, return indices of the two numbers such that they add  to a target.\n",
    "Assume that each input would have exactly one solution, and you may not use the same element twice."
   ]
  },
  {
   "cell_type": "markdown",
   "metadata": {},
   "source": [
    "Given nums = [2, 7, 11, 15], target = 9,\n",
    "### Example \n",
    "Because nums[0] + nums[1] = 2 + 7 = 9,\n",
    "return [0, 1]."
   ]
  },
  {
   "cell_type": "code",
   "execution_count": 75,
   "metadata": {},
   "outputs": [
    {
     "name": "stdout",
     "output_type": "stream",
     "text": [
      "[0, 1]\n"
     ]
    }
   ],
   "source": [
    "nums = [2, 7, 11, 15]\n",
    "target = 9\n",
    "index2 = list(range(len(nums)))\n",
    "\n",
    "index_target = []\n",
    "for entry, i in zip(nums,index2):\n",
    "    if 9 - entry in nums:\n",
    "        index_target.append(i)\n",
    "print(index_target)\n",
    "\n",
    "    "
   ]
  },
  {
   "cell_type": "code",
   "execution_count": 51,
   "metadata": {},
   "outputs": [],
   "source": [
    " # [optional II] - solve the same with only one loop and a dictionary"
   ]
  },
  {
   "cell_type": "code",
   "execution_count": null,
   "metadata": {},
   "outputs": [],
   "source": []
  },
  {
   "cell_type": "code",
   "execution_count": null,
   "metadata": {},
   "outputs": [],
   "source": []
  }
 ],
 "metadata": {
  "kernelspec": {
   "display_name": "Python 3",
   "language": "python",
   "name": "python3"
  },
  "language_info": {
   "codemirror_mode": {
    "name": "ipython",
    "version": 3
   },
   "file_extension": ".py",
   "mimetype": "text/x-python",
   "name": "python",
   "nbconvert_exporter": "python",
   "pygments_lexer": "ipython3",
   "version": "3.6.6"
  }
 },
 "nbformat": 4,
 "nbformat_minor": 2
}
